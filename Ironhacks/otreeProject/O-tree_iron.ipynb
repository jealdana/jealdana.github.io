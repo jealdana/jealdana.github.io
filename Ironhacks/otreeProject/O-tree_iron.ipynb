{
 "cells": [
  {
   "cell_type": "markdown",
   "metadata": {},
   "source": [
    "#### Steps:\n",
    "- Follow step 1 & 2 of official documentation\n",
    "- create environment 3.6\n",
    "- pip o-tree from conda \n",
    "- activate environment\n",
    "- Continue following the next steps\n",
    "\n",
    "The O-tree requirements from the [official setup documentation](#issue3) are:\n",
    "- Python 3\n",
    "- [PYcharm](#pycharm) (suggested)\n",
    "\n",
    "**Pre-setting notes**   \n",
    "If you're moving from PY 2.X to 3.X and you want use anaconda library you may want to check this setup:\n",
    "- [Using (Ana)conda within PyCharm](#issue2)\n",
    "\n",
    "**Jupyter documentation**  \n",
    "When documenting by using Jupyter Notebook you may want to look this:\n",
    "- [Conda environments not showing up in Jupyter Notebook](#issue1)  \n",
    "\n",
    "[issue1]:<https://stackoverflow.com/questions/39604271/conda-environments-not-showing-up-in-jupyter-notebook>  \n",
    "[issue2]:<https://stackoverflow.com/questions/28390961/using-anaconda-within-pycharm>\n",
    "[issue3]:<http://otree.readthedocs.io/en/latest/install.html>\n",
    "[pycharm]:<>\n"
   ]
  },
  {
   "cell_type": "code",
   "execution_count": null,
   "metadata": {},
   "outputs": [],
   "source": [
    "import django"
   ]
  },
  {
   "cell_type": "code",
   "execution_count": 2,
   "metadata": {},
   "outputs": [
    {
     "name": "stdout",
     "output_type": "stream",
     "text": [
      "2.0\n"
     ]
    }
   ],
   "source": [
    "print(django.get_version())"
   ]
  }
 ],
 "metadata": {
  "kernelspec": {
   "display_name": "Python 3",
   "language": "python",
   "name": "python3"
  },
  "language_info": {
   "codemirror_mode": {
    "name": "ipython",
    "version": 3
   },
   "file_extension": ".py",
   "mimetype": "text/x-python",
   "name": "python",
   "nbconvert_exporter": "python",
   "pygments_lexer": "ipython3",
   "version": "3.6.3"
  }
 },
 "nbformat": 4,
 "nbformat_minor": 2
}
