{
 "cells": [
  {
   "cell_type": "markdown",
   "metadata": {},
   "source": [
    "For the 21 Century there are skill that have become more relevant in a daily basis life.\n",
    "\n",
    "This space is destined to expose some of the skills needed\n",
    "\n",
    "- [Read faster with SPRITZ](http://spritzinc.com/get-spritz)\n",
    "    - [Read your own pdfs online](http://www.readsy.co/)\n",
    "    - [Read your own pdfs offline]()\n",
    "        1. [Convert your pdf into e-pub format](https://www.digitaltrends.com/computing/how-to-convert-a-pdf-to-epub/)\n",
    "        1. [Transfer them to Readme! and Enjoy!]()\n",
    "- [Write faster](https://www.livechatinc.com/typing-speed-test/#/)\n",
    "- [Master memory]()"
   ]
  },
  {
   "cell_type": "code",
   "execution_count": null,
   "metadata": {
    "collapsed": true
   },
   "outputs": [],
   "source": []
  }
 ],
 "metadata": {
  "anaconda-cloud": {},
  "kernelspec": {
   "display_name": "Python [conda env:py27]",
   "language": "python",
   "name": "conda-env-py27-py"
  },
  "language_info": {
   "codemirror_mode": {
    "name": "ipython",
    "version": 2
   },
   "file_extension": ".py",
   "mimetype": "text/x-python",
   "name": "python",
   "nbconvert_exporter": "python",
   "pygments_lexer": "ipython2",
   "version": "2.7.13"
  }
 },
 "nbformat": 4,
 "nbformat_minor": 2
}
