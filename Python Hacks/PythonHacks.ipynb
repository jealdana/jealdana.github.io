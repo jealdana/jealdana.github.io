{
 "cells": [
  {
   "cell_type": "code",
   "execution_count": null,
   "metadata": {
    "collapsed": true
   },
   "outputs": [],
   "source": []
  },
  {
   "cell_type": "markdown",
   "metadata": {},
   "source": [
    "# Web scraping"
   ]
  },
  {
   "cell_type": "markdown",
   "metadata": {},
   "source": [
    "- ## [Python Wars](Python Wars.ipynb)\n",
    "- ## Download of courses' files"
   ]
  },
  {
   "cell_type": "code",
   "execution_count": null,
   "metadata": {
    "collapsed": true
   },
   "outputs": [],
   "source": [
    "import os\n",
    "import requests\n",
    "\n",
    "path = \".\"\n",
    "\n",
    "for i in range(1,15):\n",
    "    print('Downloading week %s...' %i )\n",
    "    URL = \"https://engineering.purdue.edu/~ee562/wk\"+str(i)+\".pdf\"\n",
    "    res = requests.get(URL)\n",
    "    webFile = open(os.path.join(path, os.path.basename(URL)), 'w+')\n",
    "    for chunk in res.iter_content(2^25): # 2^11 = 2 KB, 2^21 = 2 MB, 2^25 = 32 MB \n",
    "        webFile.write(chunk)\n",
    "    webFile.close()"
   ]
  },
  {
   "cell_type": "markdown",
   "metadata": {},
   "source": [
    "# Jupyter\n",
    "\n",
    "### Jupyter - Automatic creation of html and py files \n",
    "- Set up Jupyter to create html and py files when saving [Reference][best_practices]\n",
    "\n",
    "[best_practices]:https://www.svds.com/tbt-jupyter-notebook-best-practices-data-science/?utm_source=kdnuggets&utm_medium=referral"
   ]
  },
  {
   "cell_type": "code",
   "execution_count": null,
   "metadata": {
    "collapsed": true
   },
   "outputs": [],
   "source": [
    "% jupyter notebook --generate-config\n",
    "ifile = open(\"~/.jupyter/jupyter_notebook_config.py\")\n",
    "c = get_config()\n",
    "### If you want to auto-save .html and .py versions of your notebook:\n",
    "# modified from: https://github.com/ipython/ipython/issues/8009\n",
    "import os\n",
    "from subprocess import check_call\n",
    "\n",
    "def post_save(model, os_path, contents_manager):\n",
    "    \"\"\"post-save hook for converting notebooks to .py scripts\"\"\"\n",
    "    if model['type'] != 'notebook':\n",
    "        return # only do this for notebooks\n",
    "    d, fname = os.path.split(os_path)\n",
    "    check_call(['jupyter', 'nbconvert', '--to', 'script', fname], cwd=d)\n",
    "    check_call(['jupyter', 'nbconvert', '--to', 'html', fname], cwd=d)\n",
    "c.FileContentsManager.post_save_hook = post_save"
   ]
  },
  {
   "cell_type": "markdown",
   "metadata": {
    "collapsed": true
   },
   "source": [
    "# Misc\n",
    "\n",
    "### Getting list of files and subdirectories [Reference link][#list_files]\n",
    "\n",
    "[#list_files]:<https://stackoverflow.com/questions/3207219/how-do-i-list-all-files-of-a-directory>"
   ]
  },
  {
   "cell_type": "code",
   "execution_count": null,
   "metadata": {
    "collapsed": true
   },
   "outputs": [],
   "source": [
    "\"\"\"Solution top 1\"\"\"\n",
    "import os\n",
    "path = \"/Users/jesusenriquealdanasigona/Documents/Documents - Jesus’s Mac mini/Github/nanoHUB_roles/nanohub/Literature support/1 Escience\"\n",
    "arr_txt = [filename for filename in os.listdir(path) if (\".pdf\") in filename] \n",
    "\n",
    "arr_txt[:5]"
   ]
  }
 ],
 "metadata": {
  "anaconda-cloud": {},
  "kernelspec": {
   "display_name": "Python [conda env:py27]",
   "language": "python",
   "name": "conda-env-py27-py"
  },
  "language_info": {
   "codemirror_mode": {
    "name": "ipython",
    "version": 2
   },
   "file_extension": ".py",
   "mimetype": "text/x-python",
   "name": "python",
   "nbconvert_exporter": "python",
   "pygments_lexer": "ipython2",
   "version": "2.7.13"
  }
 },
 "nbformat": 4,
 "nbformat_minor": 2
}
